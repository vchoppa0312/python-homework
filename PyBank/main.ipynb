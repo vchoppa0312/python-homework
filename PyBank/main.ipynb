{
 "cells": [
  {
   "cell_type": "code",
   "execution_count": null,
   "id": "1d339d3f-e0c4-4e4d-998c-1c7fef386ef6",
   "metadata": {},
   "outputs": [],
   "source": [
    "# PyBank Python Module 2 Challenge"
   ]
  },
  {
   "cell_type": "code",
   "execution_count": 1,
   "id": "9b9a7c4b-01ed-4e4c-ab4d-7d5a58d07865",
   "metadata": {
    "tags": []
   },
   "outputs": [],
   "source": [
    "# importing necessary libraries to read and write files\n",
    "\n",
    "from pathlib import Path\n",
    "\n",
    "import csv"
   ]
  },
  {
   "cell_type": "code",
   "execution_count": 4,
   "id": "d2069b34-ea54-494c-8c28-f8b498fac7a6",
   "metadata": {
    "tags": []
   },
   "outputs": [
    {
     "name": "stdout",
     "output_type": "stream",
     "text": [
      "Total Months: 86\n",
      "Total Profit: $38382578\n",
      "Average Change: $-2315.12\n",
      "Greatest Increase in Profits: Feb-2012 ($1926159)\n",
      "Greatest Decrease in Profits: Sep-2013 ($-2196167)\n",
      "Output file created at output.txt\n"
     ]
    }
   ],
   "source": [
    "# using functions to read csv files and return data as list\n",
    "\n",
    "data_source = Path('./Resources/budget_data.csv')\n",
    "\n",
    "def csv_read(input_file_path):\n",
    "    with open(input_file_path, 'r') as source_file:\n",
    "        reader = csv.reader(source_file, delimiter = ',')\n",
    "        record_list = list(reader)\n",
    "    return record_list\n",
    "\n",
    "# print(csv_read(source_path)) to visualize data using print to see header and content\n",
    "\n",
    "# cleaning data for analysis\n",
    "\n",
    "header_row = csv_read(data_source)[0]\n",
    "\n",
    "dataset = csv_read(data_source)[1:]\n",
    "\n",
    "no_of_months = len(dataset)\n",
    "\n",
    "print(f\"Total Months: {no_of_months}\")\n",
    "\n",
    "# using functions to calculate net total amount of Profits/Losses from dataset\n",
    "\n",
    "def net_p_and_l(data_list):\n",
    "    total_p_and_l = 0\n",
    "    for data in data_list:\n",
    "        p_and_l = int(data[1])\n",
    "        total_p_and_l += p_and_l\n",
    "    return total_p_and_l\n",
    "\n",
    "net_total_amount = net_p_and_l(dataset)\n",
    "\n",
    "if net_total_amount >= 0:\n",
    "    print(f\"Total Profit: ${net_total_amount}\")\n",
    "else:\n",
    "    print(f\"Total Loss: ${net_total_amount}\")\n",
    "    \n",
    "# using functions to calculate month on month change in Profit/Loss from dataset\n",
    "\n",
    "def p_and_l_change(data_list):\n",
    "    total_months = len(data_list)\n",
    "    dataset_range = range(total_months) \n",
    "    month_on_month_change = []\n",
    "    for month in dataset_range:\n",
    "        if month == (total_months-1):\n",
    "            break\n",
    "        else:    \n",
    "            current_month = data_list[month + 1][0]\n",
    "            current_month_p_and_l = int(data_list[month + 1][1])\n",
    "            previous_month_p_and_l = int(data_list[month][1])\n",
    "            month_on_month_change.append([current_month,(current_month_p_and_l - previous_month_p_and_l)])\n",
    "    return month_on_month_change\n",
    "\n",
    "# using functions to calculate avg change in Profit/Loss from dataset\n",
    "\n",
    "def avg_change_p_and_l(data_list):\n",
    "    dataset_p_and_l_change = p_and_l_change(data_list)\n",
    "    count = 0\n",
    "    cummulative_p_and_l = 0\n",
    "    for data in dataset_p_and_l_change:\n",
    "        count += 1\n",
    "        cummulative_p_and_l += data[1]\n",
    "    avg_change = cummulative_p_and_l / count\n",
    "    return round(avg_change,2)\n",
    "\n",
    "print(f\"Average Change: ${avg_change_p_and_l(dataset)}\")\n",
    "\n",
    "# Identifying Greatest increase and Greatest decrease in Profits\n",
    "\n",
    "dataset_p_and_l_change = p_and_l_change(dataset)\n",
    "greatest_inc_profit = 0\n",
    "greatest_dec_profit = 0\n",
    "for data in dataset_p_and_l_change:\n",
    "    if data[1] >= greatest_inc_profit:\n",
    "        greatest_inc_profit = data[1]\n",
    "        greatest_inc_profit_month = data[0]\n",
    "    elif data[1] <= greatest_dec_profit:\n",
    "        greatest_dec_profit = data[1]\n",
    "        greatest_dec_profit_month = data[0]\n",
    "\n",
    "print(f\"Greatest Increase in Profits: {greatest_inc_profit_month} (${greatest_inc_profit})\")\n",
    "\n",
    "print(f\"Greatest Decrease in Profits: {greatest_dec_profit_month} (${greatest_dec_profit})\")\n",
    "\n",
    "# using functions to create output text file\n",
    "\n",
    "output_file_path = Path('output.txt')\n",
    "def generate_output_file(output_file_path):\n",
    "    with open(output_file_path, 'w') as output:\n",
    "        output.write(f\"```text\\n\")\n",
    "        output.write(f\"Financial Analysis\\n\")\n",
    "        output.write(f\"------------------------\\n\")\n",
    "        output.write(f\"Total Months: {no_of_months}\\n\")\n",
    "        output.write(f\"Total: ${net_total_amount}\\n\")\n",
    "        output.write(f\"Average Change: ${avg_change_p_and_l(dataset)}\\n\")\n",
    "        output.write(f\"Greatest Increase in Profits: {greatest_inc_profit_month} (${greatest_inc_profit})\\n\")\n",
    "        output.write(f\"Greatest Decrease in Profits: {greatest_dec_profit_month} (${greatest_dec_profit})\\n\")\n",
    "        output.write(f\"```\")\n",
    "    return output_file_path\n",
    "\n",
    "output_file = generate_output_file(output_file_path)\n",
    "       "
   ]
  },
  {
   "cell_type": "code",
   "execution_count": null,
   "id": "d266e8c1-d3e0-4955-9fea-1c68a377879f",
   "metadata": {},
   "outputs": [],
   "source": []
  }
 ],
 "metadata": {
  "kernelspec": {
   "display_name": "Python 3 (ipykernel)",
   "language": "python",
   "name": "python3"
  },
  "language_info": {
   "codemirror_mode": {
    "name": "ipython",
    "version": 3
   },
   "file_extension": ".py",
   "mimetype": "text/x-python",
   "name": "python",
   "nbconvert_exporter": "python",
   "pygments_lexer": "ipython3",
   "version": "3.11.5"
  }
 },
 "nbformat": 4,
 "nbformat_minor": 5
}

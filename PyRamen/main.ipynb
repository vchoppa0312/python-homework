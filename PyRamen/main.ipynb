{
 "cells": [
  {
   "cell_type": "code",
   "execution_count": 9,
   "id": "89d2cc8c-949b-44aa-8b10-5438ec97ac15",
   "metadata": {},
   "outputs": [],
   "source": [
    "from pathlib import Path\n",
    "import csv"
   ]
  },
  {
   "cell_type": "code",
   "execution_count": 10,
   "id": "75dfc755-d443-452e-82de-c1a39536c320",
   "metadata": {
    "tags": []
   },
   "outputs": [],
   "source": [
    "input_file_1_path = Path(\"./Resources/menu_data.csv\")\n",
    "input_file_2_path = Path(\"./Resources/sales_data.csv\")\n",
    "\n",
    "# using functions to read input file \n",
    "\n",
    "def read_input(input_file_path):\n",
    "    with open(input_file_path,'r') as input_data:\n",
    "        reader = csv.reader(input_data, delimiter =',')\n",
    "        next (reader)\n",
    "        record_list = list(reader)\n",
    "    return record_list\n",
    "\n",
    "menu = read_input(input_file_1_path)\n",
    "sales = read_input(input_file_2_path)\n",
    "\n",
    "report = {}\n",
    "\n",
    "for each_row in sales:\n",
    "    quantity = int(each_row[3])\n",
    "    menu_item = each_row[4]\n",
    "    if menu_item not in list(report.keys()):\n",
    "        report[menu_item]={'01-count':0,'02-revenue':0,'03-cogs':0,'04-profit':0}\n",
    "    for each_item in menu:\n",
    "        item = each_item[0]\n",
    "        price = float(each_item[3])\n",
    "        cost = float(each_item[4])\n",
    "        profit = price-cost\n",
    "        if menu_item == item:\n",
    "            report[menu_item][\"01-count\"] += quantity\n",
    "            report[menu_item][\"02-revenue\"] += price * quantity\n",
    "            report[menu_item][\"03-cogs\"] += cost * quantity\n",
    "            report[menu_item][\"04-profit\"] += profit * quantity\n",
    "\n",
    "\n",
    "#using functions to write results to text file\n",
    "            \n",
    "output_file_path = Path('output.txt')\n",
    "def generate_output_file(output_path):\n",
    "    with open(output_path, 'w') as output:\n",
    "        output.write(f\"```\\n\")\n",
    "        for key, value in report.items():\n",
    "            output.write(f\"{key} {value}\\n\")\n",
    "        output.write(f\"```\")    \n",
    "    return output_file_path\n",
    "\n",
    "output_file = generate_output_file(output_file_path)\n",
    "        "
   ]
  },
  {
   "cell_type": "code",
   "execution_count": null,
   "id": "7415d366-6ddb-4217-a980-565dfb375fd4",
   "metadata": {},
   "outputs": [],
   "source": []
  }
 ],
 "metadata": {
  "kernelspec": {
   "display_name": "Python 3 (ipykernel)",
   "language": "python",
   "name": "python3"
  },
  "language_info": {
   "codemirror_mode": {
    "name": "ipython",
    "version": 3
   },
   "file_extension": ".py",
   "mimetype": "text/x-python",
   "name": "python",
   "nbconvert_exporter": "python",
   "pygments_lexer": "ipython3",
   "version": "3.11.5"
  }
 },
 "nbformat": 4,
 "nbformat_minor": 5
}
